{
 "cells": [
  {
   "cell_type": "code",
   "execution_count": 2,
   "metadata": {},
   "outputs": [],
   "source": [
    "from IPython.display import HTML, display"
   ]
  },
  {
   "cell_type": "code",
   "execution_count": 3,
   "metadata": {},
   "outputs": [],
   "source": [
    "def calculateNodes(stake, rewardrate, targetDays, startNodes):\n",
    "    currentNode = startNodes\n",
    "    days = 0\n",
    "    while (True):\n",
    "        cycleTime = stake / rewardrate / currentNode\n",
    "        days += cycleTime\n",
    "        if (days > targetDays):\n",
    "            break\n",
    "        currentNode += 1\n",
    "    return { \"endNodes\": currentNode, \"newNodes\": currentNode -  startNodes}"
   ]
  },
  {
   "cell_type": "code",
   "execution_count": 4,
   "metadata": {},
   "outputs": [],
   "source": [
    "def nice(number):\n",
    "    return format(int(number), ',f')"
   ]
  },
  {
   "cell_type": "code",
   "execution_count": 15,
   "metadata": {},
   "outputs": [],
   "source": [
    "def calculateYear(year, startNodes, params):\n",
    "    result = calculateNodes(\n",
    "        params[\"initial\"][\"stake\"] * params[\"years\"][year][\"growthFraction\"],\n",
    "        params[\"years\"][year][\"rewardrate\"], \n",
    "        params[\"years\"][year].get(\"days\", 365), \n",
    "        startNodes)\n",
    "    \n",
    "    yearlyRewards = result[\"newNodes\"] * params[\"initial\"][\"stake\"] * params[\"years\"][year][\"growthFraction\"]\n",
    "    nodeStake = result[\"newNodes\"] * params[\"initial\"][\"stake\"]\n",
    "    payout = yearlyRewards - nodeStake\n",
    "    totalStake = params[\"initial\"][\"stake\"] * result[\"endNodes\"]\n",
    "    \n",
    "    return [\n",
    "        year, \n",
    "        result[\"newNodes\"], \n",
    "        result[\"endNodes\"], \n",
    "        nice(yearlyRewards),\n",
    "        #nice(nodeStake),\n",
    "        #nice(totalStake),\n",
    "        #nice(payout),\n",
    "        nice((totalStake - (params[\"initial\"][\"stake\"] * params[\"initial\"][\"startNodes\"])) * params[\"initial\"][\"uprShare\"]),\n",
    "        nice((totalStake - (params[\"initial\"][\"stake\"] * params[\"initial\"][\"startNodes\"])) * params[\"initial\"][\"uprShare\"] * params[\"years\"][year][\"price\"]),\n",
    "        nice(yearlyRewards * params[\"years\"][year][\"dividends\"] * params[\"initial\"][\"uprShare\"]),\n",
    "        nice(yearlyRewards * params[\"years\"][year][\"dividends\"] * params[\"initial\"][\"uprShare\"] * params[\"years\"][year][\"price\"]),\n",
    "        nice((totalStake - (params[\"initial\"][\"stake\"] * params[\"initial\"][\"startNodes\"])) * params[\"initial\"][\"investorShare\"]),\n",
    "        nice((totalStake - (params[\"initial\"][\"stake\"] * params[\"initial\"][\"startNodes\"])) * params[\"initial\"][\"investorShare\"] * params[\"years\"][year][\"price\"]),\n",
    "        nice(yearlyRewards * params[\"years\"][year][\"dividends\"] * params[\"initial\"][\"investorShare\"]),\n",
    "        nice(yearlyRewards * params[\"years\"][year][\"dividends\"] * params[\"initial\"][\"investorShare\"] * params[\"years\"][year][\"price\"])\n",
    "    ]"
   ]
  },
  {
   "cell_type": "code",
   "execution_count": 21,
   "metadata": {},
   "outputs": [],
   "source": [
    "def calculateYears(params):\n",
    "    poktsteps = []\n",
    "    data = [[\n",
    "        'year', \n",
    "        'newNodes', \n",
    "        'endNodes', \n",
    "        'yearlyRewards', \n",
    "        #'nodeStakeRewards', \n",
    "        #'totalStake', \n",
    "        #'payout',\n",
    "        'upr stake POKT',\n",
    "        'upr stake USD',\n",
    "        'upr dividends POKT',\n",
    "        'upr dividends USD',\n",
    "        'investor stake POKT',\n",
    "        'investor stake USD',\n",
    "        'investor dividends POKT',\n",
    "        'investor dividends USD'\n",
    "        ]]\n",
    "    \n",
    "    for year in params[\"years\"].keys():\n",
    "        startNodes = data[-1][2] if len(data) > 1 else params[\"initial\"][\"startNodes\"]\n",
    "        data.append(calculateYear(year, startNodes, params))\n",
    "        \n",
    "    display(HTML(\n",
    "        '<table><tr>{}</tr></table>'.format(\n",
    "            '</tr><tr>'.join(\n",
    "                '<td>{}</td>'.format('</td><td>'.join(str(_) for _ in row)) for row in data)\n",
    "        )\n",
    "    ))"
   ]
  },
  {
   "cell_type": "code",
   "execution_count": 34,
   "metadata": {},
   "outputs": [
    {
     "data": {
      "text/html": [
       "<table><tr><td>year</td><td>newNodes</td><td>endNodes</td><td>yearlyRewards</td><td>upr stake POKT</td><td>upr stake USD</td><td>upr dividends POKT</td><td>upr dividends USD</td><td>investor stake POKT</td><td>investor stake USD</td><td>investor dividends POKT</td><td>investor dividends USD</td></tr><tr><td>2022</td><td>94</td><td>844</td><td>1,419,400.000000</td><td>1,206,490.000000</td><td>120,649.000000</td><td>0.000000</td><td>0.000000</td><td>212,910.000000</td><td>21,291.000000</td><td>0.000000</td><td>0.000000</td></tr><tr><td>2023</td><td>524</td><td>1368</td><td>7,912,400.000000</td><td>7,932,030.000000</td><td>793,203.000000</td><td>0.000000</td><td>0.000000</td><td>1,399,770.000000</td><td>139,977.000000</td><td>0.000000</td><td>0.000000</td></tr><tr><td>2024</td><td>850</td><td>2218</td><td>12,835,000.000000</td><td>18,841,780.000000</td><td>1,884,178.000000</td><td>0.000000</td><td>0.000000</td><td>3,325,020.000000</td><td>332,502.000000</td><td>0.000000</td><td>0.000000</td></tr><tr><td>2025</td><td>893</td><td>3111</td><td>19,263,285.000000</td><td>30,303,435.000000</td><td>3,030,343.000000</td><td>4,912,137.000000</td><td>491,213.000000</td><td>5,347,665.000000</td><td>534,766.000000</td><td>866,847.000000</td><td>86,684.000000</td></tr><tr><td>2026</td><td>154</td><td>3265</td><td>23,254,000.000000</td><td>32,280,025.000000</td><td>3,228,002.000000</td><td>17,789,310.000000</td><td>1,778,931.000000</td><td>5,696,475.000000</td><td>569,647.000000</td><td>3,139,290.000000</td><td>313,929.000000</td></tr><tr><td>2027</td><td>161</td><td>3426</td><td>24,311,000.000000</td><td>34,346,460.000000</td><td>3,434,646.000000</td><td>18,597,915.000000</td><td>1,859,791.000000</td><td>6,061,140.000000</td><td>606,114.000000</td><td>3,281,985.000000</td><td>328,198.000000</td></tr><tr><td>2028</td><td>169</td><td>3595</td><td>25,519,000.000000</td><td>36,515,575.000000</td><td>3,651,557.000000</td><td>19,522,035.000000</td><td>1,952,203.000000</td><td>6,443,925.000000</td><td>644,392.000000</td><td>3,445,065.000000</td><td>344,506.000000</td></tr></table>"
      ],
      "text/plain": [
       "<IPython.core.display.HTML object>"
      ]
     },
     "metadata": {},
     "output_type": "display_data"
    }
   ],
   "source": [
    "calculateYears({\n",
    "    \"initial\": {\n",
    "        \"stake\": 15100,\n",
    "        \"startNodes\": 750,\n",
    "        \"investorShare\": .15,\n",
    "        \"uprShare\": .85,\n",
    "    },\n",
    "    \"years\": {\n",
    "        2022: { \"growthFraction\": 100/100, \"dividends\": 0, \"rewardrate\": 20, \"price\": 0.10, \"days\": 90},\n",
    "        2023: { \"growthFraction\": 100/100, \"dividends\": 0, \"rewardrate\": 20, \"price\": 0.10},\n",
    "        2024: { \"growthFraction\": 100/100, \"dividends\": 0, \"rewardrate\": 20, \"price\": 0.10},\n",
    "        2025: { \"growthFraction\": 100/70, \"dividends\": .3, \"rewardrate\": 20, \"price\": 0.10},\n",
    "        2026: { \"growthFraction\": 100/10, \"dividends\": .9, \"rewardrate\": 20, \"price\": 0.10},\n",
    "        2027: { \"growthFraction\": 100/10, \"dividends\": .9, \"rewardrate\": 20, \"price\": 0.10},\n",
    "        2028: { \"growthFraction\": 100/10, \"dividends\": .9, \"rewardrate\": 20, \"price\": 0.10},\n",
    "    }\n",
    "})"
   ]
  },
  {
   "cell_type": "code",
   "execution_count": null,
   "metadata": {},
   "outputs": [],
   "source": []
  },
  {
   "cell_type": "code",
   "execution_count": null,
   "metadata": {},
   "outputs": [],
   "source": []
  }
 ],
 "metadata": {
  "kernelspec": {
   "display_name": "Python 3",
   "language": "python",
   "name": "python3"
  },
  "language_info": {
   "codemirror_mode": {
    "name": "ipython",
    "version": 3
   },
   "file_extension": ".py",
   "mimetype": "text/x-python",
   "name": "python",
   "nbconvert_exporter": "python",
   "pygments_lexer": "ipython3",
   "version": "3.7.9"
  }
 },
 "nbformat": 4,
 "nbformat_minor": 4
}
