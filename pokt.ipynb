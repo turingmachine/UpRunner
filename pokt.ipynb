{
 "cells": [
  {
   "cell_type": "code",
   "execution_count": 2,
   "metadata": {},
   "outputs": [
    {
     "data": {
      "text/plain": [
       "'en_US.UTF-8'"
      ]
     },
     "execution_count": 2,
     "metadata": {},
     "output_type": "execute_result"
    }
   ],
   "source": [
    "from IPython.display import HTML, display\n",
    "import locale\n",
    "locale.setlocale(locale.LC_ALL, 'en_US.UTF-8')"
   ]
  },
  {
   "cell_type": "code",
   "execution_count": 3,
   "metadata": {},
   "outputs": [],
   "source": [
    "def calculateNodes(stake, rewardrate, targetDays, startNodes):\n",
    "    currentNode = startNodes\n",
    "    days = 0\n",
    "    while (True):\n",
    "        cycleTime = stake / rewardrate / currentNode\n",
    "        days += cycleTime\n",
    "        if (days > targetDays):\n",
    "            break\n",
    "        currentNode += 1\n",
    "    return { \"totalNodes\": currentNode, \"newNodes\": currentNode -  startNodes}"
   ]
  },
  {
   "cell_type": "code",
   "execution_count": 4,
   "metadata": {},
   "outputs": [],
   "source": [
    "def nice(number):\n",
    "    return locale.format_string('%d', int(number), grouping=True)"
   ]
  },
  {
   "cell_type": "code",
   "execution_count": 5,
   "metadata": {},
   "outputs": [],
   "source": [
    "def getCostsTitles(costs):\n",
    "    titles = []\n",
    "    for title in costs.keys():\n",
    "        titles.append(f'{title} costs USD')\n",
    "    return titles"
   ]
  },
  {
   "cell_type": "code",
   "execution_count": 6,
   "metadata": {},
   "outputs": [],
   "source": [
    "def getCostsData(costs, rewardsUSD):\n",
    "    values = []\n",
    "    for factor in costs.keys():\n",
    "        values.append(nice(rewardsUSD * costs[factor]))\n",
    "    return values"
   ]
  },
  {
   "cell_type": "code",
   "execution_count": 7,
   "metadata": {},
   "outputs": [],
   "source": [
    "def getDividendsTitles(dividends):\n",
    "    titles = []\n",
    "    for title in dividends.keys():\n",
    "        titles.append(f'{title} dividends USD')\n",
    "    return titles"
   ]
  },
  {
   "cell_type": "code",
   "execution_count": 8,
   "metadata": {},
   "outputs": [],
   "source": [
    "def getDividendsData(dividends, dividendsFraction, rewardsUSD):\n",
    "    values = []\n",
    "    for factor in dividends.keys():\n",
    "        values.append(nice(rewardsUSD * dividendsFraction * dividends[factor]))\n",
    "    return values"
   ]
  },
  {
   "cell_type": "code",
   "execution_count": 9,
   "metadata": {},
   "outputs": [],
   "source": [
    "def calculateYear(year, startNodes, params):\n",
    "    costsFraction = sum(params[\"costs\"].values())\n",
    "    growthFraction = params[\"years\"][year][\"growthFraction\"] - sum(params[\"costs\"].values())\n",
    "    dividendsFraction = 1 - growthFraction - costsFraction\n",
    "    \n",
    "    result = calculateNodes(\n",
    "        params[\"initial\"][\"stake\"] * (1 / growthFraction),\n",
    "        params[\"years\"][year][\"rewardrate\"], \n",
    "        params[\"years\"][year].get(\"days\", 365), \n",
    "        startNodes)\n",
    "    \n",
    "    stakePOKT = result[\"totalNodes\"] * params[\"initial\"][\"stake\"]\n",
    "    stakeUSD = stakePOKT * params[\"years\"][year][\"price\"]\n",
    "    \n",
    "    rewardsPOKT = result[\"newNodes\"] * params[\"initial\"][\"stake\"] * (1 / growthFraction)\n",
    "    rewardsUSD = rewardsPOKT * params[\"years\"][year][\"price\"]\n",
    "    \n",
    "    costsData = getCostsData(params[\"costs\"], rewardsUSD)\n",
    "    dividendsData = getDividendsData(params[\"dividends\"], dividendsFraction, rewardsUSD)\n",
    "    \n",
    "    \n",
    "    return [\n",
    "        year, \n",
    "        result[\"newNodes\"], \n",
    "        result[\"totalNodes\"], \n",
    "        nice(stakePOKT),\n",
    "        nice(rewardsPOKT),\n",
    "        nice(stakeUSD),\n",
    "        nice(rewardsUSD),\n",
    "    ] + costsData + dividendsData"
   ]
  },
  {
   "cell_type": "code",
   "execution_count": 10,
   "metadata": {},
   "outputs": [],
   "source": [
    "def calculateYears(params):\n",
    "    data = [\n",
    "        [\n",
    "        'year', \n",
    "        'newNodes', \n",
    "        'totaNodes',\n",
    "        'stake POKT',\n",
    "        'rewards POKT', \n",
    "        'stake USD',\n",
    "        'rewards USD'\n",
    "        ] + getCostsTitles(params[\"costs\"]) + getDividendsTitles(params[\"dividends\"])\n",
    "    ]\n",
    "    \n",
    "    for year in params[\"years\"].keys():\n",
    "        startNodes = data[-1][2] if len(data) > 1 else params[\"initial\"][\"startNodes\"]\n",
    "        data.append(calculateYear(year, startNodes, params))\n",
    "        \n",
    "    display(HTML(\n",
    "        '<table style=\"font-size: 18px\"><tr>{}</tr></table>'.format(\n",
    "            '</tr><tr>'.join(\n",
    "                '<td>{}</td>'.format('</td><td>'.join(str(_) for _ in row)) for row in data)\n",
    "        )\n",
    "    ))"
   ]
  },
  {
   "cell_type": "code",
   "execution_count": 14,
   "metadata": {},
   "outputs": [
    {
     "ename": "ZeroDivisionError",
     "evalue": "float division by zero",
     "output_type": "error",
     "traceback": [
      "\u001b[0;31m---------------------------------------------------------------------------\u001b[0m",
      "\u001b[0;31mZeroDivisionError\u001b[0m                         Traceback (most recent call last)",
      "\u001b[0;32m<ipython-input-14-5a91676556ff>\u001b[0m in \u001b[0;36m<module>\u001b[0;34m\u001b[0m\n\u001b[1;32m     23\u001b[0m         \u001b[0;36m2031\u001b[0m\u001b[0;34m:\u001b[0m \u001b[0;34m{\u001b[0m \u001b[0;34m\"growthFraction\"\u001b[0m\u001b[0;34m:\u001b[0m \u001b[0;36m0.5\u001b[0m\u001b[0;34m,\u001b[0m \u001b[0;34m\"rewardrate\"\u001b[0m\u001b[0;34m:\u001b[0m \u001b[0;36m80\u001b[0m\u001b[0;34m,\u001b[0m \u001b[0;34m\"price\"\u001b[0m\u001b[0;34m:\u001b[0m \u001b[0;36m0.20\u001b[0m\u001b[0;34m}\u001b[0m\u001b[0;34m,\u001b[0m\u001b[0;34m\u001b[0m\u001b[0;34m\u001b[0m\u001b[0m\n\u001b[1;32m     24\u001b[0m         \u001b[0;36m2032\u001b[0m\u001b[0;34m:\u001b[0m \u001b[0;34m{\u001b[0m \u001b[0;34m\"growthFraction\"\u001b[0m\u001b[0;34m:\u001b[0m \u001b[0;36m0.5\u001b[0m\u001b[0;34m,\u001b[0m \u001b[0;34m\"rewardrate\"\u001b[0m\u001b[0;34m:\u001b[0m \u001b[0;36m80\u001b[0m\u001b[0;34m,\u001b[0m \u001b[0;34m\"price\"\u001b[0m\u001b[0;34m:\u001b[0m \u001b[0;36m0.20\u001b[0m\u001b[0;34m}\u001b[0m\u001b[0;34m,\u001b[0m\u001b[0;34m\u001b[0m\u001b[0;34m\u001b[0m\u001b[0m\n\u001b[0;32m---> 25\u001b[0;31m         \u001b[0;36m2033\u001b[0m\u001b[0;34m:\u001b[0m \u001b[0;34m{\u001b[0m \u001b[0;34m\"growthFraction\"\u001b[0m\u001b[0;34m:\u001b[0m \u001b[0;36m0.5\u001b[0m\u001b[0;34m,\u001b[0m \u001b[0;34m\"rewardrate\"\u001b[0m\u001b[0;34m:\u001b[0m \u001b[0;36m80\u001b[0m\u001b[0;34m,\u001b[0m \u001b[0;34m\"price\"\u001b[0m\u001b[0;34m:\u001b[0m \u001b[0;36m0.20\u001b[0m\u001b[0;34m}\u001b[0m\u001b[0;34m,\u001b[0m\u001b[0;34m\u001b[0m\u001b[0;34m\u001b[0m\u001b[0m\n\u001b[0m\u001b[1;32m     26\u001b[0m     }\n\u001b[1;32m     27\u001b[0m })\n",
      "\u001b[0;32m<ipython-input-10-551adfa1ce11>\u001b[0m in \u001b[0;36mcalculateYears\u001b[0;34m(params)\u001b[0m\n\u001b[1;32m     14\u001b[0m     \u001b[0;32mfor\u001b[0m \u001b[0myear\u001b[0m \u001b[0;32min\u001b[0m \u001b[0mparams\u001b[0m\u001b[0;34m[\u001b[0m\u001b[0;34m\"years\"\u001b[0m\u001b[0;34m]\u001b[0m\u001b[0;34m.\u001b[0m\u001b[0mkeys\u001b[0m\u001b[0;34m(\u001b[0m\u001b[0;34m)\u001b[0m\u001b[0;34m:\u001b[0m\u001b[0;34m\u001b[0m\u001b[0;34m\u001b[0m\u001b[0m\n\u001b[1;32m     15\u001b[0m         \u001b[0mstartNodes\u001b[0m \u001b[0;34m=\u001b[0m \u001b[0mdata\u001b[0m\u001b[0;34m[\u001b[0m\u001b[0;34m-\u001b[0m\u001b[0;36m1\u001b[0m\u001b[0;34m]\u001b[0m\u001b[0;34m[\u001b[0m\u001b[0;36m2\u001b[0m\u001b[0;34m]\u001b[0m \u001b[0;32mif\u001b[0m \u001b[0mlen\u001b[0m\u001b[0;34m(\u001b[0m\u001b[0mdata\u001b[0m\u001b[0;34m)\u001b[0m \u001b[0;34m>\u001b[0m \u001b[0;36m1\u001b[0m \u001b[0;32melse\u001b[0m \u001b[0mparams\u001b[0m\u001b[0;34m[\u001b[0m\u001b[0;34m\"initial\"\u001b[0m\u001b[0;34m]\u001b[0m\u001b[0;34m[\u001b[0m\u001b[0;34m\"startNodes\"\u001b[0m\u001b[0;34m]\u001b[0m\u001b[0;34m\u001b[0m\u001b[0;34m\u001b[0m\u001b[0m\n\u001b[0;32m---> 16\u001b[0;31m         \u001b[0mdata\u001b[0m\u001b[0;34m.\u001b[0m\u001b[0mappend\u001b[0m\u001b[0;34m(\u001b[0m\u001b[0mcalculateYear\u001b[0m\u001b[0;34m(\u001b[0m\u001b[0myear\u001b[0m\u001b[0;34m,\u001b[0m \u001b[0mstartNodes\u001b[0m\u001b[0;34m,\u001b[0m \u001b[0mparams\u001b[0m\u001b[0;34m)\u001b[0m\u001b[0;34m)\u001b[0m\u001b[0;34m\u001b[0m\u001b[0;34m\u001b[0m\u001b[0m\n\u001b[0m\u001b[1;32m     17\u001b[0m \u001b[0;34m\u001b[0m\u001b[0m\n\u001b[1;32m     18\u001b[0m     display(HTML(\n",
      "\u001b[0;32m<ipython-input-9-1397fecb6812>\u001b[0m in \u001b[0;36mcalculateYear\u001b[0;34m(year, startNodes, params)\u001b[0m\n\u001b[1;32m      5\u001b[0m \u001b[0;34m\u001b[0m\u001b[0m\n\u001b[1;32m      6\u001b[0m     result = calculateNodes(\n\u001b[0;32m----> 7\u001b[0;31m         \u001b[0mparams\u001b[0m\u001b[0;34m[\u001b[0m\u001b[0;34m\"initial\"\u001b[0m\u001b[0;34m]\u001b[0m\u001b[0;34m[\u001b[0m\u001b[0;34m\"stake\"\u001b[0m\u001b[0;34m]\u001b[0m \u001b[0;34m*\u001b[0m \u001b[0;34m(\u001b[0m\u001b[0;36m1\u001b[0m \u001b[0;34m/\u001b[0m \u001b[0mgrowthFraction\u001b[0m\u001b[0;34m)\u001b[0m\u001b[0;34m,\u001b[0m\u001b[0;34m\u001b[0m\u001b[0;34m\u001b[0m\u001b[0m\n\u001b[0m\u001b[1;32m      8\u001b[0m         \u001b[0mparams\u001b[0m\u001b[0;34m[\u001b[0m\u001b[0;34m\"years\"\u001b[0m\u001b[0;34m]\u001b[0m\u001b[0;34m[\u001b[0m\u001b[0myear\u001b[0m\u001b[0;34m]\u001b[0m\u001b[0;34m[\u001b[0m\u001b[0;34m\"rewardrate\"\u001b[0m\u001b[0;34m]\u001b[0m\u001b[0;34m,\u001b[0m\u001b[0;34m\u001b[0m\u001b[0;34m\u001b[0m\u001b[0m\n\u001b[1;32m      9\u001b[0m         \u001b[0mparams\u001b[0m\u001b[0;34m[\u001b[0m\u001b[0;34m\"years\"\u001b[0m\u001b[0;34m]\u001b[0m\u001b[0;34m[\u001b[0m\u001b[0myear\u001b[0m\u001b[0;34m]\u001b[0m\u001b[0;34m.\u001b[0m\u001b[0mget\u001b[0m\u001b[0;34m(\u001b[0m\u001b[0;34m\"days\"\u001b[0m\u001b[0;34m,\u001b[0m \u001b[0;36m365\u001b[0m\u001b[0;34m)\u001b[0m\u001b[0;34m,\u001b[0m\u001b[0;34m\u001b[0m\u001b[0;34m\u001b[0m\u001b[0m\n",
      "\u001b[0;31mZeroDivisionError\u001b[0m: float division by zero"
     ]
    }
   ],
   "source": [
    "calculateYears({\n",
    "    \"initial\": {\n",
    "        \"stake\": 60000,\n",
    "        \"startNodes\": 250,\n",
    "    },\n",
    "    \"costs\": {\n",
    "        \"30%\": .3,\n",
    "        \"20%\": .2,\n",
    "    },\n",
    "    \"dividends\": {\n",
    "        \"25%\": .25,\n",
    "    },\n",
    "    \"years\": {\n",
    "        2022: { \"growthFraction\": 1.0, \"rewardrate\": 80, \"price\": 0.06, \"days\": 90},\n",
    "        2023: { \"growthFraction\": 0.9, \"rewardrate\": 80, \"price\": 0.01},\n",
    "        2024: { \"growthFraction\": 0.9, \"rewardrate\": 80, \"price\": 0.05},\n",
    "        2025: { \"growthFraction\": 0.9, \"rewardrate\": 80, \"price\": 0.10},\n",
    "        2026: { \"growthFraction\": 0.9, \"rewardrate\": 80, \"price\": 0.10},\n",
    "        2027: { \"growthFraction\": 0.5, \"rewardrate\": 80, \"price\": 0.10},\n",
    "        2028: { \"growthFraction\": 0.5, \"rewardrate\": 80, \"price\": 0.10},\n",
    "        2029: { \"growthFraction\": 0.5, \"rewardrate\": 80, \"price\": 0.10},\n",
    "        2030: { \"growthFraction\": 0.5, \"rewardrate\": 80, \"price\": 0.10},\n",
    "        2031: { \"growthFraction\": 0.5, \"rewardrate\": 80, \"price\": 0.20},\n",
    "        2032: { \"growthFraction\": 0.5, \"rewardrate\": 80, \"price\": 0.20},\n",
    "        2033: { \"growthFraction\": 0.5, \"rewardrate\": 80, \"price\": 0.20},\n",
    "    }\n",
    "})"
   ]
  }
 ],
 "metadata": {
  "kernelspec": {
   "display_name": "Python 3",
   "language": "python",
   "name": "python3"
  },
  "language_info": {
   "codemirror_mode": {
    "name": "ipython",
    "version": 3
   },
   "file_extension": ".py",
   "mimetype": "text/x-python",
   "name": "python",
   "nbconvert_exporter": "python",
   "pygments_lexer": "ipython3",
   "version": "3.7.9"
  }
 },
 "nbformat": 4,
 "nbformat_minor": 4
}
