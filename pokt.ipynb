{
 "cells": [
  {
   "cell_type": "code",
   "execution_count": 90,
   "metadata": {},
   "outputs": [
    {
     "data": {
      "text/plain": [
       "'en_US.UTF-8'"
      ]
     },
     "execution_count": 90,
     "metadata": {},
     "output_type": "execute_result"
    }
   ],
   "source": [
    "from IPython.display import HTML, display\n",
    "import locale\n",
    "locale.setlocale(locale.LC_ALL, 'en_US.UTF-8')"
   ]
  },
  {
   "cell_type": "code",
   "execution_count": 91,
   "metadata": {},
   "outputs": [],
   "source": [
    "def calculateNodes(stake, rewardrate, targetDays, startNodes):\n",
    "    currentNode = startNodes\n",
    "    days = 0\n",
    "    while (True):\n",
    "        cycleTime = stake / rewardrate / currentNode\n",
    "        days += cycleTime\n",
    "        if (days > targetDays):\n",
    "            break\n",
    "        currentNode += 1\n",
    "    return { \"totalNodes\": currentNode, \"newNodes\": currentNode -  startNodes}"
   ]
  },
  {
   "cell_type": "code",
   "execution_count": 92,
   "metadata": {},
   "outputs": [],
   "source": [
    "def nice(number):\n",
    "    return locale.format_string('%d', int(number), grouping=True)"
   ]
  },
  {
   "cell_type": "code",
   "execution_count": 93,
   "metadata": {},
   "outputs": [],
   "source": [
    "def getCostsTitles(costs):\n",
    "    titles = []\n",
    "    for title in costs.keys():\n",
    "        titles.append(f'{title} costs USD')\n",
    "    return titles"
   ]
  },
  {
   "cell_type": "code",
   "execution_count": 94,
   "metadata": {},
   "outputs": [],
   "source": [
    "def getCostsData(costs, rewardsUSD):\n",
    "    values = []\n",
    "    for factor in costs.keys():\n",
    "        values.append(nice(rewardsUSD * costs[factor]))\n",
    "    return values"
   ]
  },
  {
   "cell_type": "code",
   "execution_count": 95,
   "metadata": {},
   "outputs": [],
   "source": [
    "def getDividendsTitles(dividends):\n",
    "    titles = []\n",
    "    for title in dividends.keys():\n",
    "        titles.append(f'{title} dividends USD')\n",
    "    return titles"
   ]
  },
  {
   "cell_type": "code",
   "execution_count": 96,
   "metadata": {},
   "outputs": [],
   "source": [
    "def getDividendsData(dividends, dividendsFraction, rewardsUSD):\n",
    "    values = []\n",
    "    for factor in dividends.keys():\n",
    "        values.append(nice(rewardsUSD * dividendsFraction * dividends[factor]))\n",
    "    return values"
   ]
  },
  {
   "cell_type": "code",
   "execution_count": 97,
   "metadata": {},
   "outputs": [],
   "source": [
    "def calculateYear(year, startNodes, params):\n",
    "    costsFraction = sum(params[\"costs\"].values())\n",
    "    growthFraction = params[\"years\"][year][\"growthFraction\"] - sum(params[\"costs\"].values())\n",
    "    dividendsFraction = 1 - growthFraction - costsFraction\n",
    "    \n",
    "    result = calculateNodes(\n",
    "        params[\"initial\"][\"stake\"] * (1 / growthFraction),\n",
    "        params[\"years\"][year][\"rewardrate\"], \n",
    "        params[\"years\"][year].get(\"days\", 365), \n",
    "        startNodes)\n",
    "    \n",
    "    stakePOKT = result[\"totalNodes\"] * params[\"initial\"][\"stake\"]\n",
    "    stakeUSD = stakePOKT * params[\"years\"][year][\"price\"]\n",
    "    \n",
    "    rewardsPOKT = result[\"newNodes\"] * params[\"initial\"][\"stake\"] * (1 / growthFraction)\n",
    "    rewardsUSD = rewardsPOKT * params[\"years\"][year][\"price\"]\n",
    "    \n",
    "    costsData = getCostsData(params[\"costs\"], rewardsUSD)\n",
    "    dividendsData = getDividendsData(params[\"dividends\"], dividendsFraction, rewardsUSD)\n",
    "    \n",
    "    \n",
    "    return [\n",
    "        year, \n",
    "        result[\"newNodes\"], \n",
    "        result[\"totalNodes\"], \n",
    "        nice(stakePOKT),\n",
    "        nice(rewardsPOKT),\n",
    "        nice(stakeUSD),\n",
    "        nice(rewardsUSD),\n",
    "    ] + costsData + dividendsData"
   ]
  },
  {
   "cell_type": "code",
   "execution_count": 98,
   "metadata": {},
   "outputs": [],
   "source": [
    "def calculateYears(params):\n",
    "    data = [\n",
    "        [\n",
    "        'year', \n",
    "        'newNodes', \n",
    "        'totaNodes',\n",
    "        'stake POKT',\n",
    "        'rewards POKT', \n",
    "        'stake USD',\n",
    "        'rewards USD'\n",
    "        ] + getCostsTitles(params[\"costs\"]) + getDividendsTitles(params[\"dividends\"])\n",
    "    ]\n",
    "    \n",
    "    for year in params[\"years\"].keys():\n",
    "        startNodes = data[-1][2] if len(data) > 1 else params[\"initial\"][\"startNodes\"]\n",
    "        data.append(calculateYear(year, startNodes, params))\n",
    "        \n",
    "    display(HTML(\n",
    "        '<table style=\"font-size: 18px\"><tr>{}</tr></table>'.format(\n",
    "            '</tr><tr>'.join(\n",
    "                '<td>{}</td>'.format('</td><td>'.join(str(_) for _ in row)) for row in data)\n",
    "        )\n",
    "    ))"
   ]
  },
  {
   "cell_type": "code",
   "execution_count": 100,
   "metadata": {},
   "outputs": [
    {
     "data": {
      "text/html": [
       "<table style=\"font-size: 18px\"><tr><td>year</td><td>newNodes</td><td>totaNodes</td><td>stake POKT</td><td>rewards POKT</td><td>stake USD</td><td>rewards USD</td><td>20% costs USD</td><td>10% costs USD</td><td>25% dividends USD</td></tr><tr><td>2022</td><td>21</td><td>271</td><td>16,260,000</td><td>1,800,000</td><td>1,626,000</td><td>180,000</td><td>36,000</td><td>18,000</td><td>0</td></tr><tr><td>2023</td><td>91</td><td>362</td><td>21,720,000</td><td>9,100,000</td><td>1,086,000</td><td>455,000</td><td>91,000</td><td>45,500</td><td>11,374</td></tr><tr><td>2024</td><td>99</td><td>461</td><td>27,660,000</td><td>11,880,000</td><td>276,600</td><td>118,800</td><td>23,760</td><td>11,880</td><td>5,939</td></tr><tr><td>2025</td><td>98</td><td>559</td><td>33,540,000</td><td>14,700,000</td><td>3,354,000</td><td>1,470,000</td><td>294,000</td><td>147,000</td><td>110,250</td></tr><tr><td>2026</td><td>87</td><td>646</td><td>38,760,000</td><td>17,400,000</td><td>3,876,000</td><td>1,740,000</td><td>348,000</td><td>174,000</td><td>174,000</td></tr><tr><td>2027</td><td>65</td><td>711</td><td>42,660,000</td><td>19,500,000</td><td>4,266,000</td><td>1,950,000</td><td>390,000</td><td>195,000</td><td>243,750</td></tr><tr><td>2028</td><td>35</td><td>746</td><td>44,760,000</td><td>21,000,000</td><td>4,476,000</td><td>2,100,000</td><td>420,000</td><td>210,000</td><td>315,000</td></tr></table>"
      ],
      "text/plain": [
       "<IPython.core.display.HTML object>"
      ]
     },
     "metadata": {},
     "output_type": "display_data"
    }
   ],
   "source": [
    "calculateYears({\n",
    "    \"initial\": {\n",
    "        \"stake\": 60000,\n",
    "        \"startNodes\": 250,\n",
    "    },\n",
    "    \"costs\": {\n",
    "        \"20%\": .2,\n",
    "        \"10%\": .1,\n",
    "    },\n",
    "    \"dividends\": {\n",
    "        \"25%\": .25,\n",
    "    },\n",
    "    \"years\": {\n",
    "        2022: { \"growthFraction\": 1.0, \"rewardrate\": 80, \"price\": 0.10, \"days\": 90},\n",
    "        2023: { \"growthFraction\": 1.0, \"rewardrate\": 80, \"price\": 0.05},\n",
    "        2024: { \"growthFraction\": 1.0, \"rewardrate\": 80, \"price\": 0.05},\n",
    "        2025: { \"growthFraction\": 0.5, \"rewardrate\": 80, \"price\": 0.10},\n",
    "        2026: { \"growthFraction\": 0.5, \"rewardrate\": 80, \"price\": 0.10},\n",
    "        2027: { \"growthFraction\": 0.5, \"rewardrate\": 80, \"price\": 0.10},\n",
    "        2028: { \"growthFraction\": 0.5, \"rewardrate\": 80, \"price\": 0.10},\n",
    "        2029: { \"growthFraction\": 0.5, \"rewardrate\": 80, \"price\": 0.10},\n",
    "        2030: { \"growthFraction\": 0.2, \"rewardrate\": 80, \"price\": 0.10},\n",
    "        2031: { \"growthFraction\": 0.2, \"rewardrate\": 80, \"price\": 0.20},\n",
    "        2032: { \"growthFraction\": 0.2, \"rewardrate\": 80, \"price\": 0.20},\n",
    "        2033: { \"growthFraction\": 0.2, \"rewardrate\": 80, \"price\": 0.20},\n",
    "    }\n",
    "})"
   ]
  }
 ],
 "metadata": {
  "kernelspec": {
   "display_name": "Python 3",
   "language": "python",
   "name": "python3"
  },
  "language_info": {
   "codemirror_mode": {
    "name": "ipython",
    "version": 3
   },
   "file_extension": ".py",
   "mimetype": "text/x-python",
   "name": "python",
   "nbconvert_exporter": "python",
   "pygments_lexer": "ipython3",
   "version": "3.7.9"
  }
 },
 "nbformat": 4,
 "nbformat_minor": 4
}
