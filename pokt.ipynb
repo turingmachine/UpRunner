{
 "cells": [
  {
   "cell_type": "code",
   "execution_count": 1,
   "metadata": {},
   "outputs": [
    {
     "data": {
      "text/plain": [
       "'en_US.UTF-8'"
      ]
     },
     "execution_count": 1,
     "metadata": {},
     "output_type": "execute_result"
    }
   ],
   "source": [
    "from IPython.display import HTML, display\n",
    "import locale\n",
    "locale.setlocale(locale.LC_ALL, 'en_US.UTF-8')"
   ]
  },
  {
   "cell_type": "code",
   "execution_count": 2,
   "metadata": {},
   "outputs": [],
   "source": [
    "def calculateNodes(stake, rewardrate, targetDays, startNodes):\n",
    "    currentNode = startNodes\n",
    "    days = 0\n",
    "    while (True):\n",
    "        cycleTime = stake / rewardrate / currentNode\n",
    "        days += cycleTime\n",
    "        if (days > targetDays):\n",
    "            break\n",
    "        currentNode += 1\n",
    "    return { \"totalNodes\": currentNode, \"newNodes\": currentNode -  startNodes}"
   ]
  },
  {
   "cell_type": "code",
   "execution_count": 3,
   "metadata": {},
   "outputs": [],
   "source": [
    "def nice(number):\n",
    "    return locale.format_string('%d', int(number), grouping=True)"
   ]
  },
  {
   "cell_type": "code",
   "execution_count": 14,
   "metadata": {},
   "outputs": [],
   "source": [
    "def calculateYear(year, startNodes, params):\n",
    "    growthFraction = params[\"years\"][year][\"growthFraction\"] \\\n",
    "        - params[\"years\"][year][\"costs\"] \\\n",
    "        - params[\"initial\"][\"taxFraction\"]\n",
    "    \n",
    "    result = calculateNodes(\n",
    "        params[\"initial\"][\"stake\"] * (1 / growthFraction),\n",
    "        params[\"years\"][year][\"rewardrate\"],\n",
    "        params[\"years\"][year].get(\"days\", 365),\n",
    "        startNodes)\n",
    "    \n",
    "    stakePOKT = result[\"totalNodes\"] * params[\"initial\"][\"stake\"]\n",
    "    stakeUSD = stakePOKT * params[\"years\"][year][\"price\"]\n",
    "    \n",
    "    rewardsPOKT = result[\"newNodes\"] * params[\"initial\"][\"stake\"] * (1 / growthFraction)\n",
    "    rewardsUSD = rewardsPOKT * params[\"years\"][year][\"price\"]\n",
    "    \n",
    "    return [\n",
    "        year, \n",
    "        result[\"newNodes\"], \n",
    "        result[\"totalNodes\"], \n",
    "        nice(stakePOKT),\n",
    "        nice(rewardsPOKT),\n",
    "        nice(stakeUSD),\n",
    "        nice(rewardsUSD),\n",
    "        nice(rewardsUSD * params[\"initial\"][\"taxFraction\"]),\n",
    "        nice(rewardsUSD * params[\"years\"][year][\"costs\"])\n",
    "    ]"
   ]
  },
  {
   "cell_type": "code",
   "execution_count": 15,
   "metadata": {},
   "outputs": [],
   "source": [
    "def calculateYears(params):\n",
    "    data = [\n",
    "        [\n",
    "        'year', \n",
    "        'newNodes', \n",
    "        'totaNodes',\n",
    "        'stake POKT',\n",
    "        'rewards POKT', \n",
    "        'stake USD',\n",
    "        'rewards USD',    \n",
    "        'taxes 30%',\n",
    "        'costs',\n",
    "        ]\n",
    "    ]\n",
    "    \n",
    "    for year in params[\"years\"].keys():\n",
    "        startNodes = data[-1][2] if len(data) > 1 else params[\"initial\"][\"startNodes\"]\n",
    "        data.append(calculateYear(year, startNodes, params))\n",
    "        \n",
    "    display(HTML(\n",
    "        '<b>initial stake: ' + nice(params[\"initial\"][\"startNodes\"] * params[\"initial\"][\"stake\"])\n",
    "        + '</b><table style=\"font-size: 18px\"><tr>{}</tr></table>'.format(\n",
    "            '</tr><tr>'.join(\n",
    "                '<td>{}</td>'.format('</td><td>'.join(str(_) for _ in row)) for row in data)\n",
    "        )\n",
    "    ))"
   ]
  },
  {
   "cell_type": "code",
   "execution_count": 22,
   "metadata": {
    "scrolled": false
   },
   "outputs": [
    {
     "data": {
      "text/html": [
       "<b>initial stake: 12,000,000</b><table style=\"font-size: 18px\"><tr><td>year</td><td>newNodes</td><td>totaNodes</td><td>stake POKT</td><td>rewards POKT</td><td>stake USD</td><td>rewards USD</td><td>taxes 30%</td><td>costs</td></tr><tr><td>2023</td><td>67</td><td>267</td><td>16,020,000</td><td>6,699,999</td><td>2,403,000</td><td>1,004,999</td><td>301,499</td><td>100,499</td></tr><tr><td>2024</td><td>90</td><td>357</td><td>21,420,000</td><td>9,000,000</td><td>3,213,000</td><td>1,350,000</td><td>405,000</td><td>135,000</td></tr><tr><td>2025</td><td>120</td><td>477</td><td>28,620,000</td><td>11,999,999</td><td>4,293,000</td><td>1,799,999</td><td>539,999</td><td>180,000</td></tr><tr><td>2026</td><td>161</td><td>638</td><td>38,280,000</td><td>16,099,999</td><td>5,742,000</td><td>2,414,999</td><td>724,499</td><td>241,499</td></tr><tr><td>2027</td><td>216</td><td>854</td><td>51,240,000</td><td>21,599,999</td><td>7,686,000</td><td>3,239,999</td><td>971,999</td><td>324,000</td></tr><tr><td>2028</td><td>289</td><td>1143</td><td>68,580,000</td><td>28,899,999</td><td>10,287,000</td><td>4,334,999</td><td>1,300,499</td><td>433,499</td></tr><tr><td>2029</td><td>387</td><td>1530</td><td>91,800,000</td><td>38,700,000</td><td>13,770,000</td><td>5,805,000</td><td>1,741,500</td><td>580,500</td></tr><tr><td>2030</td><td>518</td><td>2048</td><td>122,880,000</td><td>51,799,999</td><td>18,432,000</td><td>7,769,999</td><td>2,330,999</td><td>776,999</td></tr><tr><td>2031</td><td>694</td><td>2742</td><td>164,520,000</td><td>69,400,000</td><td>24,678,000</td><td>10,410,000</td><td>3,123,000</td><td>1,041,000</td></tr><tr><td>2032</td><td>929</td><td>3671</td><td>220,260,000</td><td>92,899,999</td><td>33,039,000</td><td>13,934,999</td><td>4,180,499</td><td>1,393,500</td></tr><tr><td>2033</td><td>1244</td><td>4915</td><td>294,900,000</td><td>124,399,999</td><td>44,235,000</td><td>18,659,999</td><td>5,597,999</td><td>1,865,999</td></tr></table>"
      ],
      "text/plain": [
       "<IPython.core.display.HTML object>"
      ]
     },
     "metadata": {},
     "output_type": "display_data"
    }
   ],
   "source": [
    "calculateYears({\n",
    "    \"initial\": {\n",
    "        \"stake\": 60000,\n",
    "        \"startNodes\": 200,\n",
    "        \"taxFraction\": .3\n",
    "    },\n",
    "    \"years\": {\n",
    "        2023: { \"growthFraction\": 1.00, \"rewardrate\": 80, \"price\": 0.15, \"costs\": 0.1},\n",
    "        2024: { \"growthFraction\": 1.00, \"rewardrate\": 80, \"price\": 0.15, \"costs\": 0.1},\n",
    "        2025: { \"growthFraction\": 1.00, \"rewardrate\": 80, \"price\": 0.15, \"costs\": 0.1},\n",
    "        2026: { \"growthFraction\": 1.00, \"rewardrate\": 80, \"price\": 0.15, \"costs\": 0.1},\n",
    "        2027: { \"growthFraction\": 1.00, \"rewardrate\": 80, \"price\": 0.15, \"costs\": 0.1},\n",
    "        2028: { \"growthFraction\": 1.00, \"rewardrate\": 80, \"price\": 0.15, \"costs\": 0.1},\n",
    "        2029: { \"growthFraction\": 1.00, \"rewardrate\": 80, \"price\": 0.15, \"costs\": 0.1},\n",
    "        2030: { \"growthFraction\": 1.00, \"rewardrate\": 80, \"price\": 0.15, \"costs\": 0.1},\n",
    "        2031: { \"growthFraction\": 1.00, \"rewardrate\": 80, \"price\": 0.15, \"costs\": 0.1},\n",
    "        2032: { \"growthFraction\": 1.00, \"rewardrate\": 80, \"price\": 0.15, \"costs\": 0.1},\n",
    "        2033: { \"growthFraction\": 1.00, \"rewardrate\": 80, \"price\": 0.15, \"costs\": 0.1},\n",
    "    }\n",
    "})"
   ]
  }
 ],
 "metadata": {
  "kernelspec": {
   "display_name": "Python 3",
   "language": "python",
   "name": "python3"
  },
  "language_info": {
   "codemirror_mode": {
    "name": "ipython",
    "version": 3
   },
   "file_extension": ".py",
   "mimetype": "text/x-python",
   "name": "python",
   "nbconvert_exporter": "python",
   "pygments_lexer": "ipython3",
   "version": "3.7.9"
  }
 },
 "nbformat": 4,
 "nbformat_minor": 4
}
