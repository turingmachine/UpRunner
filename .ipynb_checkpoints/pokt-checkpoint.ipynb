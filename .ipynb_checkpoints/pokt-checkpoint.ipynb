{
 "cells": [
  {
   "cell_type": "code",
   "execution_count": 133,
   "metadata": {},
   "outputs": [
    {
     "data": {
      "text/plain": [
       "'en_US.UTF-8'"
      ]
     },
     "execution_count": 133,
     "metadata": {},
     "output_type": "execute_result"
    }
   ],
   "source": [
    "from IPython.display import HTML, display\n",
    "import locale\n",
    "locale.setlocale(locale.LC_ALL, 'en_US.UTF-8')"
   ]
  },
  {
   "cell_type": "code",
   "execution_count": 134,
   "metadata": {},
   "outputs": [],
   "source": [
    "def calculateNodes(stake, rewardrate, targetDays, startNodes):\n",
    "    currentNode = startNodes\n",
    "    days = 0\n",
    "    while (True):\n",
    "        cycleTime = stake / rewardrate / currentNode\n",
    "        days += cycleTime\n",
    "        if (days > targetDays):\n",
    "            break\n",
    "        currentNode += 1\n",
    "    return { \"totalNodes\": currentNode, \"newNodes\": currentNode -  startNodes}"
   ]
  },
  {
   "cell_type": "code",
   "execution_count": 135,
   "metadata": {},
   "outputs": [],
   "source": [
    "def nice(number):\n",
    "    return locale.format_string('%d', int(number), grouping=True)"
   ]
  },
  {
   "cell_type": "code",
   "execution_count": 154,
   "metadata": {},
   "outputs": [],
   "source": [
    "def getShareData(params, year, rewardsPOKT, rewardsUSD, stakePOKT, stakeUSD):\n",
    "    shares = []\n",
    "    \n",
    "    for title in params[\"shares\"].keys():\n",
    "        shares.append(nice(rewardsPOKT * (1 - params[\"years\"][year][\"growthFraction\"]) * params[\"shares\"][title]))\n",
    "        shares.append(nice(rewardsUSD * (1 - params[\"years\"][year][\"growthFraction\"]) * params[\"shares\"][title]))\n",
    "        shares.append(nice(stakePOKT * params[\"shares\"][title]))\n",
    "        shares.append(nice(stakeUSD * params[\"shares\"][title]))\n",
    "    \n",
    "    return shares"
   ]
  },
  {
   "cell_type": "code",
   "execution_count": 155,
   "metadata": {},
   "outputs": [],
   "source": [
    "def getShareTitles(params):\n",
    "    titles = []\n",
    "    for title in params[\"shares\"].keys():\n",
    "        titles.append(f'{title} takeout POKT')\n",
    "        titles.append(f'{title} takeout USD')\n",
    "        titles.append(f'{title} stake POKT')\n",
    "        titles.append(f'{title} stake USD')\n",
    "    return titles"
   ]
  },
  {
   "cell_type": "code",
   "execution_count": 156,
   "metadata": {},
   "outputs": [],
   "source": [
    "def calculateYear(year, startNodes, params):\n",
    "    result = calculateNodes(\n",
    "        params[\"initial\"][\"stake\"] * (1 / params[\"years\"][year][\"growthFraction\"]),\n",
    "        params[\"years\"][year][\"rewardrate\"], \n",
    "        params[\"years\"][year].get(\"days\", 365), \n",
    "        startNodes)\n",
    "    \n",
    "    rewardsPOKT = result[\"newNodes\"] * params[\"initial\"][\"stake\"] * (1 / params[\"years\"][year][\"growthFraction\"])\n",
    "    rewardsUSD = rewardsPOKT * params[\"years\"][year][\"price\"]\n",
    "    stakePOKT = result[\"totalNodes\"] * params[\"initial\"][\"stake\"]\n",
    "    stakeUSD = stakePOKT * params[\"years\"][year][\"price\"]\n",
    "    \n",
    "    dividendsFraction = 1 - params[\"years\"][year][\"growthFraction\"]\n",
    "    \n",
    "    return [\n",
    "        year, \n",
    "        result[\"newNodes\"], \n",
    "        result[\"totalNodes\"], \n",
    "        nice(rewardsPOKT),\n",
    "        nice(rewardsUSD),\n",
    "        nice(stakePOKT),\n",
    "        nice(stakeUSD),\n",
    "    ] + getShareData(params, year, rewardsPOKT, rewardsUSD, stakePOKT, stakeUSD)"
   ]
  },
  {
   "cell_type": "code",
   "execution_count": 157,
   "metadata": {},
   "outputs": [],
   "source": [
    "def calculateYears(params):\n",
    "    poktsteps = []\n",
    "    data = [[\n",
    "        'year', \n",
    "        'newNodes', \n",
    "        'totaNodes',\n",
    "        'rewards POKT', \n",
    "        'rewards USD', \n",
    "        'stake POKT',\n",
    "        'stake USD'\n",
    "        ] + getShareTitles(params)] \n",
    "    \n",
    "    for year in params[\"years\"].keys():\n",
    "        startNodes = data[-1][2] if len(data) > 1 else params[\"initial\"][\"startNodes\"]\n",
    "        data.append(calculateYear(year, startNodes, params))\n",
    "        \n",
    "    display(HTML(\n",
    "        '<table style=\"font-size: 18px\"><tr>{}</tr></table>'.format(\n",
    "            '</tr><tr>'.join(\n",
    "                '<td>{}</td>'.format('</td><td>'.join(str(_) for _ in row)) for row in data)\n",
    "        )\n",
    "    ))"
   ]
  },
  {
   "cell_type": "code",
   "execution_count": 159,
   "metadata": {},
   "outputs": [
    {
     "data": {
      "text/html": [
       "<table style=\"font-size: 18px\"><tr><td>year</td><td>newNodes</td><td>totaNodes</td><td>rewards POKT</td><td>rewards USD</td><td>stake POKT</td><td>stake USD</td><td>100% takeout POKT</td><td>100% takeout USD</td><td>100% stake POKT</td><td>100% stake USD</td><td>10% takeout POKT</td><td>10% takeout USD</td><td>10% stake POKT</td><td>10% stake USD</td><td>25% takeout POKT</td><td>25% takeout USD</td><td>25% stake POKT</td><td>25% stake USD</td></tr><tr><td>2022</td><td>31</td><td>281</td><td>1,860,000</td><td>186,000</td><td>16,860,000</td><td>1,686,000</td><td>0</td><td>0</td><td>16,860,000</td><td>1,686,000</td><td>0</td><td>0</td><td>1,686,000</td><td>168,600</td><td>0</td><td>0</td><td>4,215,000</td><td>421,500</td></tr><tr><td>2023</td><td>154</td><td>435</td><td>10,266,666</td><td>513,333</td><td>26,100,000</td><td>1,305,000</td><td>1,026,666</td><td>51,333</td><td>26,100,000</td><td>1,305,000</td><td>102,666</td><td>5,133</td><td>2,610,000</td><td>130,500</td><td>256,666</td><td>12,833</td><td>6,525,000</td><td>326,250</td></tr><tr><td>2024</td><td>206</td><td>641</td><td>15,450,000</td><td>154,500</td><td>38,460,000</td><td>384,600</td><td>3,089,999</td><td>30,899</td><td>38,460,000</td><td>384,600</td><td>308,999</td><td>3,089</td><td>3,846,000</td><td>38,460</td><td>772,499</td><td>7,724</td><td>9,615,000</td><td>96,150</td></tr><tr><td>2025</td><td>259</td><td>900</td><td>22,200,000</td><td>2,220,000</td><td>54,000,000</td><td>5,400,000</td><td>6,660,000</td><td>666,000</td><td>54,000,000</td><td>5,400,000</td><td>666,000</td><td>66,600</td><td>5,400,000</td><td>540,000</td><td>1,665,000</td><td>166,500</td><td>13,500,000</td><td>1,350,000</td></tr><tr><td>2026</td><td>305</td><td>1205</td><td>30,500,000</td><td>6,100,000</td><td>72,300,000</td><td>14,460,000</td><td>12,200,000</td><td>2,440,000</td><td>72,300,000</td><td>14,460,000</td><td>1,220,000</td><td>244,000</td><td>7,230,000</td><td>1,446,000</td><td>3,050,000</td><td>610,000</td><td>18,075,000</td><td>3,615,000</td></tr><tr><td>2027</td><td>331</td><td>1536</td><td>39,720,000</td><td>11,916,000</td><td>92,160,000</td><td>27,648,000</td><td>19,860,000</td><td>5,958,000</td><td>92,160,000</td><td>27,648,000</td><td>1,986,000</td><td>595,800</td><td>9,216,000</td><td>2,764,800</td><td>4,965,000</td><td>1,489,500</td><td>23,040,000</td><td>6,912,000</td></tr><tr><td>2028</td><td>329</td><td>1865</td><td>49,350,000</td><td>19,740,000</td><td>111,900,000</td><td>44,760,000</td><td>29,610,000</td><td>11,844,000</td><td>111,900,000</td><td>44,760,000</td><td>2,961,000</td><td>1,184,400</td><td>11,190,000</td><td>4,476,000</td><td>7,402,500</td><td>2,961,000</td><td>27,975,000</td><td>11,190,000</td></tr></table>"
      ],
      "text/plain": [
       "<IPython.core.display.HTML object>"
      ]
     },
     "metadata": {},
     "output_type": "display_data"
    }
   ],
   "source": [
    "calculateYears({\n",
    "    \"initial\": {\n",
    "        \"stake\": 60000,\n",
    "        \"startNodes\": 250,\n",
    "    },\n",
    "    \"shares\": {\n",
    "        \"100%\": 1,\n",
    "        \"10%\": .1,\n",
    "        \"25%\": .25,\n",
    "    },\n",
    "    \"years\": {\n",
    "        2022: { \"growthFraction\": 1.0, \"rewardrate\": 80, \"price\": 0.10, \"days\": 90},\n",
    "        2023: { \"growthFraction\": 0.9, \"rewardrate\": 80, \"price\": 0.05},\n",
    "        2024: { \"growthFraction\": 0.8, \"rewardrate\": 80, \"price\": 0.01},\n",
    "        2025: { \"growthFraction\": 0.7, \"rewardrate\": 80, \"price\": 0.10},\n",
    "        2026: { \"growthFraction\": 0.6, \"rewardrate\": 80, \"price\": 0.20},\n",
    "        2027: { \"growthFraction\": 0.5, \"rewardrate\": 80, \"price\": 0.30},\n",
    "        2028: { \"growthFraction\": 0.4, \"rewardrate\": 80, \"price\": 0.40},\n",
    "    }\n",
    "})"
   ]
  },
  {
   "cell_type": "code",
   "execution_count": null,
   "metadata": {},
   "outputs": [],
   "source": []
  }
 ],
 "metadata": {
  "kernelspec": {
   "display_name": "Python 3",
   "language": "python",
   "name": "python3"
  },
  "language_info": {
   "codemirror_mode": {
    "name": "ipython",
    "version": 3
   },
   "file_extension": ".py",
   "mimetype": "text/x-python",
   "name": "python",
   "nbconvert_exporter": "python",
   "pygments_lexer": "ipython3",
   "version": "3.7.9"
  }
 },
 "nbformat": 4,
 "nbformat_minor": 4
}
