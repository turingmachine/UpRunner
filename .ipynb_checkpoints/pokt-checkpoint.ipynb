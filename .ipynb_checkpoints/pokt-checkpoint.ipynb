{
 "cells": [
  {
   "cell_type": "code",
   "execution_count": 54,
   "metadata": {},
   "outputs": [
    {
     "data": {
      "text/plain": [
       "'en_US.UTF-8'"
      ]
     },
     "execution_count": 54,
     "metadata": {},
     "output_type": "execute_result"
    }
   ],
   "source": [
    "from IPython.display import HTML, display\n",
    "import locale\n",
    "locale.setlocale(locale.LC_ALL, 'en_US.UTF-8')"
   ]
  },
  {
   "cell_type": "code",
   "execution_count": 55,
   "metadata": {},
   "outputs": [],
   "source": [
    "def calculateNodes(stake, rewardrate, targetDays, startNodes):\n",
    "    currentNode = startNodes\n",
    "    days = 0\n",
    "    while (True):\n",
    "        cycleTime = stake / rewardrate / currentNode\n",
    "        days += cycleTime\n",
    "        if (days > targetDays):\n",
    "            break\n",
    "        currentNode += 1\n",
    "    return { \"endNodes\": currentNode, \"newNodes\": currentNode -  startNodes}"
   ]
  },
  {
   "cell_type": "code",
   "execution_count": 56,
   "metadata": {},
   "outputs": [],
   "source": [
    "def nice(number):\n",
    "    return locale.format_string('%d', int(number), grouping=True)"
   ]
  },
  {
   "cell_type": "code",
   "execution_count": 58,
   "metadata": {},
   "outputs": [],
   "source": [
    "def calculateYear(year, startNodes, params):\n",
    "    result = calculateNodes(\n",
    "        params[\"initial\"][\"stake\"] * params[\"years\"][year][\"growthFraction\"],\n",
    "        params[\"years\"][year][\"rewardrate\"], \n",
    "        params[\"years\"][year].get(\"days\", 365), \n",
    "        startNodes)\n",
    "    \n",
    "    yearlyRewards = result[\"newNodes\"] * params[\"initial\"][\"stake\"] * params[\"years\"][year][\"growthFraction\"]\n",
    "    nodeStake = result[\"newNodes\"] * params[\"initial\"][\"stake\"]\n",
    "    payout = yearlyRewards - nodeStake\n",
    "    totalStake = params[\"initial\"][\"stake\"] * result[\"endNodes\"]\n",
    "    \n",
    "    return [\n",
    "        year, \n",
    "        result[\"newNodes\"], \n",
    "        result[\"endNodes\"], \n",
    "        nice(yearlyRewards),\n",
    "        #nice(nodeStake),\n",
    "        #nice(totalStake),\n",
    "        #nice(payout),\n",
    "        nice((totalStake - (params[\"initial\"][\"stake\"] * params[\"initial\"][\"startNodes\"])) * params[\"initial\"][\"uprShare\"]),\n",
    "        nice((totalStake - (params[\"initial\"][\"stake\"] * params[\"initial\"][\"startNodes\"])) * params[\"initial\"][\"uprShare\"] * params[\"years\"][year][\"price\"]),\n",
    "        nice(yearlyRewards * params[\"years\"][year][\"dividends\"] * params[\"initial\"][\"uprShare\"]),\n",
    "        nice(yearlyRewards * params[\"years\"][year][\"dividends\"] * params[\"initial\"][\"uprShare\"] * params[\"years\"][year][\"price\"]),\n",
    "        nice((totalStake - (params[\"initial\"][\"stake\"] * params[\"initial\"][\"startNodes\"])) * params[\"initial\"][\"investorShare\"]),\n",
    "        nice((totalStake - (params[\"initial\"][\"stake\"] * params[\"initial\"][\"startNodes\"])) * params[\"initial\"][\"investorShare\"] * params[\"years\"][year][\"price\"]),\n",
    "        nice(yearlyRewards * params[\"years\"][year][\"dividends\"] * params[\"initial\"][\"investorShare\"]),\n",
    "        nice(yearlyRewards * params[\"years\"][year][\"dividends\"] * params[\"initial\"][\"investorShare\"] * params[\"years\"][year][\"price\"])\n",
    "    ]"
   ]
  },
  {
   "cell_type": "code",
   "execution_count": 65,
   "metadata": {},
   "outputs": [],
   "source": [
    "def calculateYears(params):\n",
    "    poktsteps = []\n",
    "    data = [[\n",
    "        'year', \n",
    "        'newNodes', \n",
    "        'endNodes', \n",
    "        'yearlyRewards', \n",
    "        #'nodeStakeRewards', \n",
    "        #'totalStake', \n",
    "        #'payout',\n",
    "        'upr stake POKT',\n",
    "        'upr stake USD',\n",
    "        'upr dividends POKT',\n",
    "        'upr dividends USD',\n",
    "        'investor stake POKT',\n",
    "        'investor stake USD',\n",
    "        'investor dividends POKT',\n",
    "        'investor dividends USD'\n",
    "        ]]\n",
    "    \n",
    "    for year in params[\"years\"].keys():\n",
    "        startNodes = data[-1][2] if len(data) > 1 else params[\"initial\"][\"startNodes\"]\n",
    "        data.append(calculateYear(year, startNodes, params))\n",
    "        \n",
    "    display(HTML(\n",
    "        '<table style=\"font-size: 18px\"><tr>{}</tr></table>'.format(\n",
    "            '</tr><tr>'.join(\n",
    "                '<td>{}</td>'.format('</td><td>'.join(str(_) for _ in row)) for row in data)\n",
    "        )\n",
    "    ))"
   ]
  },
  {
   "cell_type": "code",
   "execution_count": 66,
   "metadata": {},
   "outputs": [
    {
     "data": {
      "text/html": [
       "<table style=\"font-size: 18px\"><tr><td>year</td><td>newNodes</td><td>endNodes</td><td>yearlyRewards</td><td>upr stake POKT</td><td>upr stake USD</td><td>upr dividends POKT</td><td>upr dividends USD</td><td>investor stake POKT</td><td>investor stake USD</td><td>investor dividends POKT</td><td>investor dividends USD</td></tr><tr><td>2022</td><td>31</td><td>281</td><td>1,860,000</td><td>1,395,000</td><td>139,500</td><td>0</td><td>0</td><td>465,000</td><td>46,500</td><td>0</td><td>0</td></tr><tr><td>2023</td><td>175</td><td>456</td><td>10,500,000</td><td>9,270,000</td><td>927,000</td><td>0</td><td>0</td><td>3,090,000</td><td>309,000</td><td>0</td><td>0</td></tr><tr><td>2024</td><td>250</td><td>706</td><td>16,666,666</td><td>20,520,000</td><td>2,052,000</td><td>1,250,000</td><td>125,000</td><td>6,840,000</td><td>684,000</td><td>416,666</td><td>41,666</td></tr><tr><td>2025</td><td>286</td><td>992</td><td>24,514,285</td><td>33,390,000</td><td>3,339,000</td><td>5,515,714</td><td>551,571</td><td>11,130,000</td><td>1,113,000</td><td>1,838,571</td><td>183,857</td></tr><tr><td>2026</td><td>49</td><td>1041</td><td>29,400,000</td><td>35,595,000</td><td>3,559,500</td><td>19,845,000</td><td>1,984,500</td><td>11,865,000</td><td>1,186,500</td><td>6,615,000</td><td>661,500</td></tr><tr><td>2027</td><td>51</td><td>1092</td><td>30,600,000</td><td>37,890,000</td><td>3,789,000</td><td>20,655,000</td><td>2,065,500</td><td>12,630,000</td><td>1,263,000</td><td>6,885,000</td><td>688,500</td></tr><tr><td>2028</td><td>54</td><td>1146</td><td>32,400,000</td><td>40,320,000</td><td>4,032,000</td><td>21,870,000</td><td>2,187,000</td><td>13,440,000</td><td>1,344,000</td><td>7,290,000</td><td>729,000</td></tr></table>"
      ],
      "text/plain": [
       "<IPython.core.display.HTML object>"
      ]
     },
     "metadata": {},
     "output_type": "display_data"
    }
   ],
   "source": [
    "calculateYears({\n",
    "    \"initial\": {\n",
    "        \"stake\": 60000,\n",
    "        \"startNodes\": 250,\n",
    "        \"investorShare\": .25,\n",
    "        \"uprShare\": .75,\n",
    "    },\n",
    "    \"years\": {\n",
    "        2022: { \"growthFraction\": 100/100, \"dividends\": 0, \"rewardrate\": 80, \"price\": 0.10, \"days\": 90},\n",
    "        2023: { \"growthFraction\": 100/100, \"dividends\": 0, \"rewardrate\": 80, \"price\": 0.10},\n",
    "        2024: { \"growthFraction\": 100/90, \"dividends\": .1, \"rewardrate\": 80, \"price\": 0.10},\n",
    "        2025: { \"growthFraction\": 100/70, \"dividends\": .3, \"rewardrate\": 80, \"price\": 0.10},\n",
    "        2026: { \"growthFraction\": 100/10, \"dividends\": .9, \"rewardrate\": 80, \"price\": 0.10},\n",
    "        2027: { \"growthFraction\": 100/10, \"dividends\": .9, \"rewardrate\": 80, \"price\": 0.10},\n",
    "        2028: { \"growthFraction\": 100/10, \"dividends\": .9, \"rewardrate\": 80, \"price\": 0.10},\n",
    "    }\n",
    "})"
   ]
  },
  {
   "cell_type": "code",
   "execution_count": null,
   "metadata": {},
   "outputs": [],
   "source": []
  }
 ],
 "metadata": {
  "kernelspec": {
   "display_name": "Python 3",
   "language": "python",
   "name": "python3"
  },
  "language_info": {
   "codemirror_mode": {
    "name": "ipython",
    "version": 3
   },
   "file_extension": ".py",
   "mimetype": "text/x-python",
   "name": "python",
   "nbconvert_exporter": "python",
   "pygments_lexer": "ipython3",
   "version": "3.7.9"
  }
 },
 "nbformat": 4,
 "nbformat_minor": 4
}
